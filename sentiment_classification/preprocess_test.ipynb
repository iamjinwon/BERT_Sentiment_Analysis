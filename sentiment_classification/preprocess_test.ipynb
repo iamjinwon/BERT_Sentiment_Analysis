{
 "cells": [
  {
   "cell_type": "markdown",
   "metadata": {},
   "source": [
    "## 1. 데이터 불러오기"
   ]
  },
  {
   "cell_type": "code",
   "execution_count": 1,
   "metadata": {},
   "outputs": [
    {
     "data": {
      "text/html": [
       "<div>\n",
       "<style scoped>\n",
       "    .dataframe tbody tr th:only-of-type {\n",
       "        vertical-align: middle;\n",
       "    }\n",
       "\n",
       "    .dataframe tbody tr th {\n",
       "        vertical-align: top;\n",
       "    }\n",
       "\n",
       "    .dataframe thead th {\n",
       "        text-align: right;\n",
       "    }\n",
       "</style>\n",
       "<table border=\"1\" class=\"dataframe\">\n",
       "  <thead>\n",
       "    <tr style=\"text-align: right;\">\n",
       "      <th></th>\n",
       "      <th>id</th>\n",
       "      <th>document</th>\n",
       "      <th>label</th>\n",
       "    </tr>\n",
       "  </thead>\n",
       "  <tbody>\n",
       "    <tr>\n",
       "      <th>0</th>\n",
       "      <td>9976970</td>\n",
       "      <td>아 더빙.. 진짜 짜증나네요 목소리</td>\n",
       "      <td>0</td>\n",
       "    </tr>\n",
       "    <tr>\n",
       "      <th>1</th>\n",
       "      <td>3819312</td>\n",
       "      <td>흠...포스터보고 초딩영화줄....오버연기조차 가볍지 않구나</td>\n",
       "      <td>1</td>\n",
       "    </tr>\n",
       "    <tr>\n",
       "      <th>2</th>\n",
       "      <td>10265843</td>\n",
       "      <td>너무재밓었다그래서보는것을추천한다</td>\n",
       "      <td>0</td>\n",
       "    </tr>\n",
       "    <tr>\n",
       "      <th>3</th>\n",
       "      <td>9045019</td>\n",
       "      <td>교도소 이야기구먼 ..솔직히 재미는 없다..평점 조정</td>\n",
       "      <td>0</td>\n",
       "    </tr>\n",
       "    <tr>\n",
       "      <th>4</th>\n",
       "      <td>6483659</td>\n",
       "      <td>사이몬페그의 익살스런 연기가 돋보였던 영화!스파이더맨에서 늙어보이기만 했던 커스틴 ...</td>\n",
       "      <td>1</td>\n",
       "    </tr>\n",
       "    <tr>\n",
       "      <th>...</th>\n",
       "      <td>...</td>\n",
       "      <td>...</td>\n",
       "      <td>...</td>\n",
       "    </tr>\n",
       "    <tr>\n",
       "      <th>149995</th>\n",
       "      <td>6222902</td>\n",
       "      <td>인간이 문제지.. 소는 뭔죄인가..</td>\n",
       "      <td>0</td>\n",
       "    </tr>\n",
       "    <tr>\n",
       "      <th>149996</th>\n",
       "      <td>8549745</td>\n",
       "      <td>평점이 너무 낮아서...</td>\n",
       "      <td>1</td>\n",
       "    </tr>\n",
       "    <tr>\n",
       "      <th>149997</th>\n",
       "      <td>9311800</td>\n",
       "      <td>이게 뭐요? 한국인은 거들먹거리고 필리핀 혼혈은 착하다?</td>\n",
       "      <td>0</td>\n",
       "    </tr>\n",
       "    <tr>\n",
       "      <th>149998</th>\n",
       "      <td>2376369</td>\n",
       "      <td>청춘 영화의 최고봉.방황과 우울했던 날들의 자화상</td>\n",
       "      <td>1</td>\n",
       "    </tr>\n",
       "    <tr>\n",
       "      <th>149999</th>\n",
       "      <td>9619869</td>\n",
       "      <td>한국 영화 최초로 수간하는 내용이 담긴 영화</td>\n",
       "      <td>0</td>\n",
       "    </tr>\n",
       "  </tbody>\n",
       "</table>\n",
       "<p>150000 rows × 3 columns</p>\n",
       "</div>"
      ],
      "text/plain": [
       "              id                                           document  label\n",
       "0        9976970                                아 더빙.. 진짜 짜증나네요 목소리      0\n",
       "1        3819312                  흠...포스터보고 초딩영화줄....오버연기조차 가볍지 않구나      1\n",
       "2       10265843                                  너무재밓었다그래서보는것을추천한다      0\n",
       "3        9045019                      교도소 이야기구먼 ..솔직히 재미는 없다..평점 조정      0\n",
       "4        6483659  사이몬페그의 익살스런 연기가 돋보였던 영화!스파이더맨에서 늙어보이기만 했던 커스틴 ...      1\n",
       "...          ...                                                ...    ...\n",
       "149995   6222902                                인간이 문제지.. 소는 뭔죄인가..      0\n",
       "149996   8549745                                      평점이 너무 낮아서...      1\n",
       "149997   9311800                    이게 뭐요? 한국인은 거들먹거리고 필리핀 혼혈은 착하다?      0\n",
       "149998   2376369                        청춘 영화의 최고봉.방황과 우울했던 날들의 자화상      1\n",
       "149999   9619869                           한국 영화 최초로 수간하는 내용이 담긴 영화      0\n",
       "\n",
       "[150000 rows x 3 columns]"
      ]
     },
     "execution_count": 1,
     "metadata": {},
     "output_type": "execute_result"
    }
   ],
   "source": [
    "import pandas as pd\n",
    "\n",
    "input_train = \"/home/jinwon/workspace/5-plm/nsmc/txt_file/ratings_train.txt\"\n",
    "input_test = \"/home/jinwon/workspace/5-plm/nsmc/txt_file/ratings_test.txt\"\n",
    "\n",
    "train = pd.read_csv(input_train, delimiter='\\t', header=0)\n",
    "test = pd.read_csv(input_test, delimiter='\\t', header=0)\n",
    "train"
   ]
  },
  {
   "cell_type": "markdown",
   "metadata": {},
   "source": [
    "## 2. 중복데이터 확인"
   ]
  },
  {
   "cell_type": "code",
   "execution_count": 2,
   "metadata": {},
   "outputs": [
    {
     "data": {
      "text/plain": [
       "(146182, 2)"
      ]
     },
     "execution_count": 2,
     "metadata": {},
     "output_type": "execute_result"
    }
   ],
   "source": [
    "train['document'].nunique(), train['label'].nunique() # label 부분은 당연히 긍정,부정이니깐 2개 출력되어야 함."
   ]
  },
  {
   "cell_type": "code",
   "execution_count": 3,
   "metadata": {},
   "outputs": [],
   "source": [
    "train.drop_duplicates(subset=['document'], inplace=True)"
   ]
  },
  {
   "cell_type": "markdown",
   "metadata": {},
   "source": [
    "## 3. 결측치 확인"
   ]
  },
  {
   "cell_type": "code",
   "execution_count": 4,
   "metadata": {},
   "outputs": [
    {
     "data": {
      "text/plain": [
       "id          0\n",
       "document    1\n",
       "label       0\n",
       "dtype: int64"
      ]
     },
     "execution_count": 4,
     "metadata": {},
     "output_type": "execute_result"
    }
   ],
   "source": [
    "missing_info = train.isnull().sum()\n",
    "missing_info\n"
   ]
  },
  {
   "cell_type": "markdown",
   "metadata": {},
   "source": [
    "## 4. 결측치 제거"
   ]
  },
  {
   "cell_type": "code",
   "execution_count": 5,
   "metadata": {},
   "outputs": [
    {
     "data": {
      "text/html": [
       "<div>\n",
       "<style scoped>\n",
       "    .dataframe tbody tr th:only-of-type {\n",
       "        vertical-align: middle;\n",
       "    }\n",
       "\n",
       "    .dataframe tbody tr th {\n",
       "        vertical-align: top;\n",
       "    }\n",
       "\n",
       "    .dataframe thead th {\n",
       "        text-align: right;\n",
       "    }\n",
       "</style>\n",
       "<table border=\"1\" class=\"dataframe\">\n",
       "  <thead>\n",
       "    <tr style=\"text-align: right;\">\n",
       "      <th></th>\n",
       "      <th>id</th>\n",
       "      <th>document</th>\n",
       "      <th>label</th>\n",
       "    </tr>\n",
       "  </thead>\n",
       "  <tbody>\n",
       "    <tr>\n",
       "      <th>0</th>\n",
       "      <td>9976970</td>\n",
       "      <td>아 더빙.. 진짜 짜증나네요 목소리</td>\n",
       "      <td>0</td>\n",
       "    </tr>\n",
       "    <tr>\n",
       "      <th>1</th>\n",
       "      <td>3819312</td>\n",
       "      <td>흠...포스터보고 초딩영화줄....오버연기조차 가볍지 않구나</td>\n",
       "      <td>1</td>\n",
       "    </tr>\n",
       "    <tr>\n",
       "      <th>2</th>\n",
       "      <td>10265843</td>\n",
       "      <td>너무재밓었다그래서보는것을추천한다</td>\n",
       "      <td>0</td>\n",
       "    </tr>\n",
       "    <tr>\n",
       "      <th>3</th>\n",
       "      <td>9045019</td>\n",
       "      <td>교도소 이야기구먼 ..솔직히 재미는 없다..평점 조정</td>\n",
       "      <td>0</td>\n",
       "    </tr>\n",
       "    <tr>\n",
       "      <th>4</th>\n",
       "      <td>6483659</td>\n",
       "      <td>사이몬페그의 익살스런 연기가 돋보였던 영화!스파이더맨에서 늙어보이기만 했던 커스틴 ...</td>\n",
       "      <td>1</td>\n",
       "    </tr>\n",
       "    <tr>\n",
       "      <th>...</th>\n",
       "      <td>...</td>\n",
       "      <td>...</td>\n",
       "      <td>...</td>\n",
       "    </tr>\n",
       "    <tr>\n",
       "      <th>149995</th>\n",
       "      <td>6222902</td>\n",
       "      <td>인간이 문제지.. 소는 뭔죄인가..</td>\n",
       "      <td>0</td>\n",
       "    </tr>\n",
       "    <tr>\n",
       "      <th>149996</th>\n",
       "      <td>8549745</td>\n",
       "      <td>평점이 너무 낮아서...</td>\n",
       "      <td>1</td>\n",
       "    </tr>\n",
       "    <tr>\n",
       "      <th>149997</th>\n",
       "      <td>9311800</td>\n",
       "      <td>이게 뭐요? 한국인은 거들먹거리고 필리핀 혼혈은 착하다?</td>\n",
       "      <td>0</td>\n",
       "    </tr>\n",
       "    <tr>\n",
       "      <th>149998</th>\n",
       "      <td>2376369</td>\n",
       "      <td>청춘 영화의 최고봉.방황과 우울했던 날들의 자화상</td>\n",
       "      <td>1</td>\n",
       "    </tr>\n",
       "    <tr>\n",
       "      <th>149999</th>\n",
       "      <td>9619869</td>\n",
       "      <td>한국 영화 최초로 수간하는 내용이 담긴 영화</td>\n",
       "      <td>0</td>\n",
       "    </tr>\n",
       "  </tbody>\n",
       "</table>\n",
       "<p>146182 rows × 3 columns</p>\n",
       "</div>"
      ],
      "text/plain": [
       "              id                                           document  label\n",
       "0        9976970                                아 더빙.. 진짜 짜증나네요 목소리      0\n",
       "1        3819312                  흠...포스터보고 초딩영화줄....오버연기조차 가볍지 않구나      1\n",
       "2       10265843                                  너무재밓었다그래서보는것을추천한다      0\n",
       "3        9045019                      교도소 이야기구먼 ..솔직히 재미는 없다..평점 조정      0\n",
       "4        6483659  사이몬페그의 익살스런 연기가 돋보였던 영화!스파이더맨에서 늙어보이기만 했던 커스틴 ...      1\n",
       "...          ...                                                ...    ...\n",
       "149995   6222902                                인간이 문제지.. 소는 뭔죄인가..      0\n",
       "149996   8549745                                      평점이 너무 낮아서...      1\n",
       "149997   9311800                    이게 뭐요? 한국인은 거들먹거리고 필리핀 혼혈은 착하다?      0\n",
       "149998   2376369                        청춘 영화의 최고봉.방황과 우울했던 날들의 자화상      1\n",
       "149999   9619869                           한국 영화 최초로 수간하는 내용이 담긴 영화      0\n",
       "\n",
       "[146182 rows x 3 columns]"
      ]
     },
     "execution_count": 5,
     "metadata": {},
     "output_type": "execute_result"
    }
   ],
   "source": [
    "train = train.dropna(subset=['document', 'label'])\n",
    "train"
   ]
  },
  {
   "cell_type": "markdown",
   "metadata": {},
   "source": [
    "## 5. index를 label로 매핑\n",
    "\n",
    "- 나중에 enumerate로 손쉽게 index_to_label함수 작성하기 위해서 미리 처리"
   ]
  },
  {
   "cell_type": "code",
   "execution_count": 6,
   "metadata": {},
   "outputs": [
    {
     "name": "stderr",
     "output_type": "stream",
     "text": [
      "/tmp/ipykernel_10342/1215886935.py:1: SettingWithCopyWarning: \n",
      "A value is trying to be set on a copy of a slice from a DataFrame.\n",
      "Try using .loc[row_indexer,col_indexer] = value instead\n",
      "\n",
      "See the caveats in the documentation: https://pandas.pydata.org/pandas-docs/stable/user_guide/indexing.html#returning-a-view-versus-a-copy\n",
      "  train['label'] = train['label'].apply(lambda x: 'positive' if int(x) == 1 else 'negative')\n"
     ]
    },
    {
     "data": {
      "text/html": [
       "<div>\n",
       "<style scoped>\n",
       "    .dataframe tbody tr th:only-of-type {\n",
       "        vertical-align: middle;\n",
       "    }\n",
       "\n",
       "    .dataframe tbody tr th {\n",
       "        vertical-align: top;\n",
       "    }\n",
       "\n",
       "    .dataframe thead th {\n",
       "        text-align: right;\n",
       "    }\n",
       "</style>\n",
       "<table border=\"1\" class=\"dataframe\">\n",
       "  <thead>\n",
       "    <tr style=\"text-align: right;\">\n",
       "      <th></th>\n",
       "      <th>id</th>\n",
       "      <th>document</th>\n",
       "      <th>label</th>\n",
       "    </tr>\n",
       "  </thead>\n",
       "  <tbody>\n",
       "    <tr>\n",
       "      <th>0</th>\n",
       "      <td>9976970</td>\n",
       "      <td>아 더빙.. 진짜 짜증나네요 목소리</td>\n",
       "      <td>negative</td>\n",
       "    </tr>\n",
       "    <tr>\n",
       "      <th>1</th>\n",
       "      <td>3819312</td>\n",
       "      <td>흠...포스터보고 초딩영화줄....오버연기조차 가볍지 않구나</td>\n",
       "      <td>positive</td>\n",
       "    </tr>\n",
       "    <tr>\n",
       "      <th>2</th>\n",
       "      <td>10265843</td>\n",
       "      <td>너무재밓었다그래서보는것을추천한다</td>\n",
       "      <td>negative</td>\n",
       "    </tr>\n",
       "    <tr>\n",
       "      <th>3</th>\n",
       "      <td>9045019</td>\n",
       "      <td>교도소 이야기구먼 ..솔직히 재미는 없다..평점 조정</td>\n",
       "      <td>negative</td>\n",
       "    </tr>\n",
       "    <tr>\n",
       "      <th>4</th>\n",
       "      <td>6483659</td>\n",
       "      <td>사이몬페그의 익살스런 연기가 돋보였던 영화!스파이더맨에서 늙어보이기만 했던 커스틴 ...</td>\n",
       "      <td>positive</td>\n",
       "    </tr>\n",
       "    <tr>\n",
       "      <th>...</th>\n",
       "      <td>...</td>\n",
       "      <td>...</td>\n",
       "      <td>...</td>\n",
       "    </tr>\n",
       "    <tr>\n",
       "      <th>149995</th>\n",
       "      <td>6222902</td>\n",
       "      <td>인간이 문제지.. 소는 뭔죄인가..</td>\n",
       "      <td>negative</td>\n",
       "    </tr>\n",
       "    <tr>\n",
       "      <th>149996</th>\n",
       "      <td>8549745</td>\n",
       "      <td>평점이 너무 낮아서...</td>\n",
       "      <td>positive</td>\n",
       "    </tr>\n",
       "    <tr>\n",
       "      <th>149997</th>\n",
       "      <td>9311800</td>\n",
       "      <td>이게 뭐요? 한국인은 거들먹거리고 필리핀 혼혈은 착하다?</td>\n",
       "      <td>negative</td>\n",
       "    </tr>\n",
       "    <tr>\n",
       "      <th>149998</th>\n",
       "      <td>2376369</td>\n",
       "      <td>청춘 영화의 최고봉.방황과 우울했던 날들의 자화상</td>\n",
       "      <td>positive</td>\n",
       "    </tr>\n",
       "    <tr>\n",
       "      <th>149999</th>\n",
       "      <td>9619869</td>\n",
       "      <td>한국 영화 최초로 수간하는 내용이 담긴 영화</td>\n",
       "      <td>negative</td>\n",
       "    </tr>\n",
       "  </tbody>\n",
       "</table>\n",
       "<p>146182 rows × 3 columns</p>\n",
       "</div>"
      ],
      "text/plain": [
       "              id                                           document     label\n",
       "0        9976970                                아 더빙.. 진짜 짜증나네요 목소리  negative\n",
       "1        3819312                  흠...포스터보고 초딩영화줄....오버연기조차 가볍지 않구나  positive\n",
       "2       10265843                                  너무재밓었다그래서보는것을추천한다  negative\n",
       "3        9045019                      교도소 이야기구먼 ..솔직히 재미는 없다..평점 조정  negative\n",
       "4        6483659  사이몬페그의 익살스런 연기가 돋보였던 영화!스파이더맨에서 늙어보이기만 했던 커스틴 ...  positive\n",
       "...          ...                                                ...       ...\n",
       "149995   6222902                                인간이 문제지.. 소는 뭔죄인가..  negative\n",
       "149996   8549745                                      평점이 너무 낮아서...  positive\n",
       "149997   9311800                    이게 뭐요? 한국인은 거들먹거리고 필리핀 혼혈은 착하다?  negative\n",
       "149998   2376369                        청춘 영화의 최고봉.방황과 우울했던 날들의 자화상  positive\n",
       "149999   9619869                           한국 영화 최초로 수간하는 내용이 담긴 영화  negative\n",
       "\n",
       "[146182 rows x 3 columns]"
      ]
     },
     "execution_count": 6,
     "metadata": {},
     "output_type": "execute_result"
    }
   ],
   "source": [
    "train['label'] = train['label'].apply(lambda x: 'positive' if int(x) == 1 else 'negative')\n",
    "train"
   ]
  },
  {
   "cell_type": "code",
   "execution_count": 7,
   "metadata": {},
   "outputs": [
    {
     "data": {
      "text/html": [
       "<div>\n",
       "<style scoped>\n",
       "    .dataframe tbody tr th:only-of-type {\n",
       "        vertical-align: middle;\n",
       "    }\n",
       "\n",
       "    .dataframe tbody tr th {\n",
       "        vertical-align: top;\n",
       "    }\n",
       "\n",
       "    .dataframe thead th {\n",
       "        text-align: right;\n",
       "    }\n",
       "</style>\n",
       "<table border=\"1\" class=\"dataframe\">\n",
       "  <thead>\n",
       "    <tr style=\"text-align: right;\">\n",
       "      <th></th>\n",
       "      <th>label</th>\n",
       "      <th>document</th>\n",
       "    </tr>\n",
       "  </thead>\n",
       "  <tbody>\n",
       "    <tr>\n",
       "      <th>0</th>\n",
       "      <td>negative</td>\n",
       "      <td>아 더빙.. 진짜 짜증나네요 목소리</td>\n",
       "    </tr>\n",
       "    <tr>\n",
       "      <th>1</th>\n",
       "      <td>positive</td>\n",
       "      <td>흠...포스터보고 초딩영화줄....오버연기조차 가볍지 않구나</td>\n",
       "    </tr>\n",
       "    <tr>\n",
       "      <th>2</th>\n",
       "      <td>negative</td>\n",
       "      <td>너무재밓었다그래서보는것을추천한다</td>\n",
       "    </tr>\n",
       "    <tr>\n",
       "      <th>3</th>\n",
       "      <td>negative</td>\n",
       "      <td>교도소 이야기구먼 ..솔직히 재미는 없다..평점 조정</td>\n",
       "    </tr>\n",
       "    <tr>\n",
       "      <th>4</th>\n",
       "      <td>positive</td>\n",
       "      <td>사이몬페그의 익살스런 연기가 돋보였던 영화!스파이더맨에서 늙어보이기만 했던 커스틴 ...</td>\n",
       "    </tr>\n",
       "    <tr>\n",
       "      <th>...</th>\n",
       "      <td>...</td>\n",
       "      <td>...</td>\n",
       "    </tr>\n",
       "    <tr>\n",
       "      <th>149995</th>\n",
       "      <td>negative</td>\n",
       "      <td>인간이 문제지.. 소는 뭔죄인가..</td>\n",
       "    </tr>\n",
       "    <tr>\n",
       "      <th>149996</th>\n",
       "      <td>positive</td>\n",
       "      <td>평점이 너무 낮아서...</td>\n",
       "    </tr>\n",
       "    <tr>\n",
       "      <th>149997</th>\n",
       "      <td>negative</td>\n",
       "      <td>이게 뭐요? 한국인은 거들먹거리고 필리핀 혼혈은 착하다?</td>\n",
       "    </tr>\n",
       "    <tr>\n",
       "      <th>149998</th>\n",
       "      <td>positive</td>\n",
       "      <td>청춘 영화의 최고봉.방황과 우울했던 날들의 자화상</td>\n",
       "    </tr>\n",
       "    <tr>\n",
       "      <th>149999</th>\n",
       "      <td>negative</td>\n",
       "      <td>한국 영화 최초로 수간하는 내용이 담긴 영화</td>\n",
       "    </tr>\n",
       "  </tbody>\n",
       "</table>\n",
       "<p>146182 rows × 2 columns</p>\n",
       "</div>"
      ],
      "text/plain": [
       "           label                                           document\n",
       "0       negative                                아 더빙.. 진짜 짜증나네요 목소리\n",
       "1       positive                  흠...포스터보고 초딩영화줄....오버연기조차 가볍지 않구나\n",
       "2       negative                                  너무재밓었다그래서보는것을추천한다\n",
       "3       negative                      교도소 이야기구먼 ..솔직히 재미는 없다..평점 조정\n",
       "4       positive  사이몬페그의 익살스런 연기가 돋보였던 영화!스파이더맨에서 늙어보이기만 했던 커스틴 ...\n",
       "...          ...                                                ...\n",
       "149995  negative                                인간이 문제지.. 소는 뭔죄인가..\n",
       "149996  positive                                      평점이 너무 낮아서...\n",
       "149997  negative                    이게 뭐요? 한국인은 거들먹거리고 필리핀 혼혈은 착하다?\n",
       "149998  positive                        청춘 영화의 최고봉.방황과 우울했던 날들의 자화상\n",
       "149999  negative                           한국 영화 최초로 수간하는 내용이 담긴 영화\n",
       "\n",
       "[146182 rows x 2 columns]"
      ]
     },
     "execution_count": 7,
     "metadata": {},
     "output_type": "execute_result"
    }
   ],
   "source": [
    "train = train[['label', 'document']]\n",
    "train"
   ]
  },
  {
   "cell_type": "code",
   "execution_count": 8,
   "metadata": {},
   "outputs": [
    {
     "data": {
      "image/png": "[encoded data removed]",
      "text/plain": [
       "<Figure size 800x500 with 1 Axes>"
      ]
     },
     "metadata": {},
     "output_type": "display_data"
    }
   ],
   "source": [
    "import matplotlib.pyplot as plt\n",
    "\n",
    "# Step 1: Label 개수 계산\n",
    "label_counts = train['label'].value_counts()\n",
    "\n",
    "# Step 2: 막대그래프 그리기\n",
    "plt.figure(figsize=(8, 5))\n",
    "bars = plt.bar(label_counts.index, label_counts.values, color=['skyblue', 'lightcoral'])\n",
    "\n",
    "# Step 3: 막대 위에 주석 추가\n",
    "for bar in bars:\n",
    "    height = bar.get_height()\n",
    "    plt.text(bar.get_x() + bar.get_width() / 2, height, f'{height}', \n",
    "             ha='center', va='bottom', fontsize=12)\n",
    "\n",
    "# 그래프 꾸미기\n",
    "plt.title('Label Count with Annotations', fontsize=16)\n",
    "plt.xlabel('Label', fontsize=14)\n",
    "plt.ylabel('Count', fontsize=14)\n",
    "plt.xticks(rotation=0, fontsize=12)  # x축 라벨\n",
    "plt.yticks(fontsize=12)  # y축 라벨\n",
    "plt.tight_layout()\n",
    "\n",
    "# 그래프 보여주기\n",
    "plt.show()"
   ]
  },
  {
   "cell_type": "markdown",
   "metadata": {},
   "source": [
    "## 영어만 있는 데이터 개수"
   ]
  },
  {
   "cell_type": "code",
   "execution_count": 9,
   "metadata": {},
   "outputs": [
    {
     "name": "stdout",
     "output_type": "stream",
     "text": [
      "조건에 맞는 데이터 개수: 648\n",
      "필터링된 데이터:\n",
      "           label                                        document\n",
      "404     negative                         What is this movie for?\n",
      "412     positive                      Yesterday when i was young\n",
      "470     positive                               once upon a dream\n",
      "668     negative                                         General\n",
      "1312    negative                                shut the fuck up\n",
      "...          ...                                             ...\n",
      "149309  positive  two thumbs up!!!!!! so touching! so impressed!\n",
      "149358  negative                                             wtf\n",
      "149364  positive                                          !!!!!!\n",
      "149630  negative                                      So, what ?\n",
      "149773  negative                                Real Trash Movie\n",
      "\n",
      "[648 rows x 2 columns]\n"
     ]
    }
   ],
   "source": [
    "import re\n",
    "\n",
    "# 영어와 특수문자로만 이루어진 데이터를 찾는 함수\n",
    "def find_english_special_characters_only(df, column_name):\n",
    "    # 정규식: 영어와 공백, 특수문자만 허용\n",
    "    pattern = re.compile(r'^[a-zA-Z\\s.,?!@#$%^&*()\\-_=+\\\\|{}\\[\\]:;\"\\'<>,./?`~]+$')\n",
    "    \n",
    "    # 해당 조건에 맞는 데이터 필터링\n",
    "    filtered = df[df[column_name].apply(lambda x: bool(pattern.fullmatch(x)))]\n",
    "    \n",
    "    return len(filtered), filtered\n",
    "\n",
    "# 'document' 컬럼에서 조건에 맞는 데이터 찾기\n",
    "count, filtered_data = find_english_special_characters_only(train, 'document')\n",
    "\n",
    "print(f\"조건에 맞는 데이터 개수: {count}\")\n",
    "print(\"필터링된 데이터:\")\n",
    "print(filtered_data)"
   ]
  },
  {
   "cell_type": "markdown",
   "metadata": {},
   "source": [
    "## 숫자만 있는 데이터"
   ]
  },
  {
   "cell_type": "code",
   "execution_count": 10,
   "metadata": {},
   "outputs": [
    {
     "name": "stdout",
     "output_type": "stream",
     "text": [
      "숫자로만 이루어진 데이터 개수: 25\n",
      "필터링된 데이터:\n",
      "           label          document\n",
      "584     negative                 1\n",
      "593     negative                 4\n",
      "2327    positive        1236547890\n",
      "12280   positive                10\n",
      "12414   positive        1234567891\n",
      "14179   positive        1234567890\n",
      "20937   negative                55\n",
      "26701   negative                 0\n",
      "28844   negative                22\n",
      "29202   negative    10101010101010\n",
      "33528   negative                18\n",
      "39083   positive      123445577900\n",
      "40204   negative      112233445555\n",
      "46856   positive                 9\n",
      "47708   negative  0000000000000000\n",
      "50468   negative               345\n",
      "59454   negative        1122334455\n",
      "68206   positive       12345678910\n",
      "71596   negative              4444\n",
      "84201   negative               111\n",
      "89163   negative               444\n",
      "95194   negative       14111141516\n",
      "128246  negative               100\n",
      "146064  negative            181818\n",
      "146607  negative                 2\n"
     ]
    }
   ],
   "source": [
    "import re\n",
    "\n",
    "# 숫자만 이루어진 데이터를 찾는 함수\n",
    "def find_numbers_only(df, column_name):\n",
    "    # 정규식: 숫자만 허용\n",
    "    pattern = re.compile(r'^\\d+$')\n",
    "    \n",
    "    # 해당 조건에 맞는 데이터 필터링\n",
    "    filtered = df[df[column_name].apply(lambda x: bool(pattern.fullmatch(x)))]\n",
    "    \n",
    "    return len(filtered), filtered\n",
    "\n",
    "# 'document' 컬럼에서 조건에 맞는 데이터 찾기\n",
    "count, filtered_data = find_numbers_only(train, 'document')\n",
    "\n",
    "print(f\"숫자로만 이루어진 데이터 개수: {count}\")\n",
    "print(\"필터링된 데이터:\")\n",
    "print(filtered_data)"
   ]
  },
  {
   "cell_type": "markdown",
   "metadata": {},
   "source": [
    "## 전체 훈련데이터에서 토큰개수 평균"
   ]
  },
  {
   "cell_type": "code",
   "execution_count": 11,
   "metadata": {},
   "outputs": [
    {
     "name": "stderr",
     "output_type": "stream",
     "text": [
      "/home/jinwon/.local/lib/python3.10/site-packages/tqdm/auto.py:21: TqdmWarning: IProgress not found. Please update jupyter and ipywidgets. See https://ipywidgets.readthedocs.io/en/stable/user_install.html\n",
      "  from .autonotebook import tqdm as notebook_tqdm\n",
      "Tokenizing documents: 100%|██████████| 146182/146182 [00:05<00:00, 25242.09it/s]\n"
     ]
    },
    {
     "name": "stdout",
     "output_type": "stream",
     "text": [
      "원본 문장:\n",
      "아 더빙.. 진짜 짜증나네요 목소리\n",
      "\n",
      "토크나이저로 처리된 토큰 ID:\n",
      "[2, 5504, 3175, 8638, 2016, 2016, 14188, 22922, 35063, 26796, 3]\n",
      "\n",
      "토큰 ID에 대응하는 실제 토큰:\n",
      "['[CLS]', '아', '더', '##빙', '.', '.', '진짜', '짜증', '##나네요', '목소리', '[SEP]']\n",
      "\n",
      "토큰 최대 길이: 142\n",
      "평균 토큰 길이: 19.31\n"
     ]
    },
    {
     "data": {
      "image/png": "[encoded data removed]",
      "text/plain": [
       "<Figure size 640x480 with 1 Axes>"
      ]
     },
     "metadata": {},
     "output_type": "display_data"
    }
   ],
   "source": [
    "from transformers import BertTokenizerFast\n",
    "import pandas as pd\n",
    "import numpy as np\n",
    "from tqdm import tqdm\n",
    "import matplotlib.pyplot as plt\n",
    "\n",
    "# BertTokenizerFast 초기화\n",
    "tokenizer = BertTokenizerFast.from_pretrained(\"kykim/bert-kor-base\")\n",
    "\n",
    "# 토큰 길이 저장 리스트\n",
    "token_lengths = []\n",
    "\n",
    "# 임의로 확인할 문장 (첫 번째 문장)\n",
    "sample_doc_index = 0  # 임의로 첫 번째 문장을 선택\n",
    "sample_doc = train[\"document\"][sample_doc_index]\n",
    "\n",
    "# tqdm을 사용하여 진행 상황 표시\n",
    "for doc in tqdm(train[\"document\"], desc=\"Tokenizing documents\"):\n",
    "    encoded = tokenizer.encode(doc, truncation=False, add_special_tokens=True)\n",
    "    token_lengths.append(len(encoded))\n",
    "\n",
    "# 샘플 문장 출력 및 토크나이저 결과 확인\n",
    "sample_encoded = tokenizer.encode(sample_doc, truncation=False, add_special_tokens=True)\n",
    "decoded_tokens = tokenizer.convert_ids_to_tokens(sample_encoded)\n",
    "\n",
    "print(\"원본 문장:\")\n",
    "print(sample_doc)\n",
    "print(\"\\n토크나이저로 처리된 토큰 ID:\")\n",
    "print(sample_encoded)\n",
    "print(\"\\n토큰 ID에 대응하는 실제 토큰:\")\n",
    "print(decoded_tokens)\n",
    "\n",
    "# 통계 계산\n",
    "max_length = np.max(token_lengths)\n",
    "mean_length = np.mean(token_lengths)\n",
    "print(f\"\\n토큰 최대 길이: {max_length}\")\n",
    "print(f\"평균 토큰 길이: {mean_length:.2f}\")\n",
    "\n",
    "# 히스토그램으로 길이 분포 시각화\n",
    "plt.hist(token_lengths, bins=50, alpha=0.7, color='blue')\n",
    "plt.title(\"Token Length Distribution\")\n",
    "plt.xlabel(\"Token Length\")\n",
    "plt.ylabel(\"Frequency\")\n",
    "plt.show()"
   ]
  },
  {
   "cell_type": "markdown",
   "metadata": {},
   "source": [
    "# 구두점이 각 라벨별로 몇개있는지"
   ]
  },
  {
   "cell_type": "code",
   "execution_count": 12,
   "metadata": {},
   "outputs": [
    {
     "name": "stdout",
     "output_type": "stream",
     "text": [
      "구두점 개수 라벨별 집계:\n",
      "! -> 라벨 0: 8361.0, 라벨 1: 23479.0\n",
      "\\? -> 라벨 0: 13190.0, 라벨 1: 5253.0\n",
      "\\^\\^ -> 라벨 0: 338.0, 라벨 1: 2501.0\n",
      "ㅡㅡ -> 라벨 0: 1731.0, 라벨 1: 197.0\n",
      "\\.\\.\\. -> 라벨 0: 21212.0, 라벨 1: 13028.0\n"
     ]
    }
   ],
   "source": [
    "import pandas as pd\n",
    "import re\n",
    "\n",
    "# 구두점 리스트 정의\n",
    "punctuations = [\"!\", \"\\\\?\", \"\\\\^\\\\^\", \"ㅡㅡ\", \"\\\\.\\\\.\\\\.\"]\n",
    "\n",
    "# 라벨별 구두점 개수 계산 함수\n",
    "def count_punctuation_by_label(df, column, label_column, punctuations):\n",
    "    # 결과 저장 딕셔너리\n",
    "    result = {punct: {0: 0, 1: 0} for punct in punctuations}\n",
    "\n",
    "    # 라벨별 데이터 필터링\n",
    "    for label in df[label_column].unique():\n",
    "        filtered_df = df[df[label_column] == label]\n",
    "        for punct in punctuations:\n",
    "            # 정규식 패턴으로 구두점 개수 계산\n",
    "            pattern = re.compile(punct)\n",
    "            count = filtered_df[column].str.count(pattern).sum()\n",
    "            result[punct][label] = count\n",
    "    \n",
    "    return result\n",
    "\n",
    "# 데이터 불러오기\n",
    "input_train = \"/home/jinwon/workspace/5-plm/nsmc/txt_file/ratings_train.txt\"\n",
    "train = pd.read_csv(input_train, delimiter='\\t', header=0)\n",
    "\n",
    "# 구두점 개수 세기\n",
    "result = count_punctuation_by_label(train, 'document', 'label', punctuations)\n",
    "\n",
    "# 결과 출력\n",
    "print(\"구두점 개수 라벨별 집계:\")\n",
    "for punct, counts in result.items():\n",
    "    print(f\"{punct} -> 라벨 0: {counts[0]}, 라벨 1: {counts[1]}\")\n"
   ]
  },
  {
   "cell_type": "markdown",
   "metadata": {},
   "source": [
    "# beomi/kcbert 전처리 참고"
   ]
  },
  {
   "cell_type": "code",
   "execution_count": 1,
   "metadata": {},
   "outputs": [
    {
     "name": "stdout",
     "output_type": "stream",
     "text": [
      "원본: ㅋㅋㅋㅋ 진짜 너무 웃겨요 -> 정규화: ㅋㅋ 진짜 너무 웃겨요\n",
      "원본: ㅎㅎㅎㅎ 최고야 -> 정규화: ㅎㅎ 최고야\n",
      "원본: 이건 대박이야ㅠㅠㅠㅠ -> 정규화: 이건 대박이야ㅠㅠ\n",
      "원본: 와!!! 정말 굉장해!!!! -> 정규화: 와!!! 정말 굉장해!!!!\n",
      "원본: 최고 !!!!!!! -> 정규화: 최고 !!!!!!!\n"
     ]
    }
   ],
   "source": [
    "from soynlp.normalizer import repeat_normalize\n",
    "\n",
    "# 테스트 케이스\n",
    "texts = [\n",
    "    \"ㅋㅋㅋㅋ 진짜 너무 웃겨요\",\n",
    "    \"ㅎㅎㅎㅎ 최고야\",\n",
    "    \"이건 대박이야ㅠㅠㅠㅠ\",\n",
    "    \"와!!! 정말 굉장해!!!!\",\n",
    "    \"최고 !!!!!!!\"\n",
    "]\n",
    "\n",
    "for text in texts:\n",
    "    normalized = repeat_normalize(text, num_repeats=2)\n",
    "    print(f\"원본: {text} -> 정규화: {normalized}\")"
   ]
  },
  {
   "cell_type": "code",
   "execution_count": 6,
   "metadata": {},
   "outputs": [
    {
     "name": "stdout",
     "output_type": "stream",
     "text": [
      "원본: ㅋㅋㅋ 진짜 너무 웃겨요 -> 정제된 결과: ㅋㅋㅋ 진짜 너무 웃겨요\n",
      "원본: ㅎㅎㅎ 최고야 -> 정제된 결과: ㅎㅎㅎ 최고야\n",
      "원본: 이건 대박이야ㅠㅠㅠ -> 정제된 결과: 이건 대박이야ㅠㅠㅠ\n",
      "원본: 와!!! 정말 굉장해!!!! -> 정제된 결과: 와!!! 정말 굉장해!!!!\n",
      "원본: 최고 !!!!!!! -> 정제된 결과: 최고 !!!!!!!\n"
     ]
    }
   ],
   "source": [
    "import re\n",
    "from soynlp.normalizer import repeat_normalize  # soynlp 패키지 사용\n",
    "import emoji\n",
    "\n",
    "def clean_text(text, max_length):\n",
    "    \"\"\"\n",
    "    텍스트 데이터를 정제합니다.\n",
    "    Args:\n",
    "        text (str): 원본 텍스트.\n",
    "        max_length (int): 최대 토큰 길이.\n",
    "    Returns:\n",
    "        str: 정제된 텍스트.\n",
    "    \"\"\"\n",
    "    # 이모지와 특수문자 필터링 패턴\n",
    "    emojis = ''.join(emoji.EMOJI_DATA.keys())\n",
    "    pattern = re.compile(f'[^ .,?!/@$%~％·∼()\\x00-\\x7Fㄱ-힣{emojis}]+')\n",
    "    url_pattern = re.compile(\n",
    "        r'https?:\\/\\/(www\\.)?[-a-zA-Z0-9@:%._\\+~#=]{1,256}\\.[a-zA-Z0-9()]{1,6}\\b([-a-zA-Z0-9()@:%_\\+.~#?&//=]*)'\n",
    "    )\n",
    "\n",
    "    # 텍스트 정제\n",
    "    text = repeat_normalize(text, num_repeats=2)  # 반복 문자 정규화 (예: \"ㅋㅋㅋㅋ\" → \"ㅋㅋ\")\n",
    "    text = pattern.sub(' ', text)  # 특수문자 제거\n",
    "    text = url_pattern.sub('', text)  # URL 제거\n",
    "    text = text.strip()  # 앞뒤 공백 제거\n",
    "    \n",
    "    # 길이 제한 적용\n",
    "    if len(text.split()) > max_length:\n",
    "        text = ' '.join(text.split()[:max_length])\n",
    "\n",
    "    return text\n",
    "\n",
    "texts = [\n",
    "    \"ㅋㅋㅋ 진짜 너무 웃겨요\",\n",
    "    \"ㅎㅎㅎ 최고야\",\n",
    "    \"이건 대박이야ㅠㅠㅠ\",\n",
    "    \"와!!! 정말 굉장해!!!!\",\n",
    "    \"최고 !!!!!!!\"\n",
    "]\n",
    "\n",
    "max_length = 10\n",
    "for text in texts:\n",
    "    cleaned = clean_text(text, max_length)\n",
    "    print(f\"원본: {text} -> 정제된 결과: {cleaned}\")"
   ]
  },
  {
   "cell_type": "markdown",
   "metadata": {},
   "source": [
    "## repeat_normalize 테스트"
   ]
  },
  {
   "cell_type": "code",
   "execution_count": 14,
   "metadata": {},
   "outputs": [
    {
     "data": {
      "text/plain": [
       "'ㅋㅋㅋㅋ 와하하하하핫 진짜 너무 웃겨요 ㅎㅎㅎㅎ'"
      ]
     },
     "execution_count": 14,
     "metadata": {},
     "output_type": "execute_result"
    }
   ],
   "source": [
    "from soynlp.normalizer import repeat_normalize, emoticon_normalize\n",
    "\n",
    "text = \"ㅋㅋㅋㅋㅋㅋ 와하하하하하하하핫 진짜 너무 웃겨요 ㅎㅎㅎㅎㅎㅎㅎ\"\n",
    "\n",
    "text = repeat_normalize(text, num_repeats=4)\n",
    "text"
   ]
  },
  {
   "cell_type": "code",
   "execution_count": 10,
   "metadata": {},
   "outputs": [
    {
     "data": {
      "text/plain": [
       "'와하하하핫 진짜 너무 웃겨요 ㅎㅎㅎ'"
      ]
     },
     "execution_count": 10,
     "metadata": {},
     "output_type": "execute_result"
    }
   ],
   "source": [
    "text = emoticon_normalize(\"와하하하핫 진짜 너무 웃겨요 ㅎㅎㅎ\", num_repeats=2)\n",
    "text"
   ]
  },
  {
   "cell_type": "markdown",
   "metadata": {},
   "source": [
    "### Github에서 실제 함수코드 불러와서 사용"
   ]
  },
  {
   "cell_type": "code",
   "execution_count": 13,
   "metadata": {},
   "outputs": [
    {
     "name": "stdout",
     "output_type": "stream",
     "text": [
      "ㅋㅋ 안녕하세요!!! ㅎㅎ ㅠㅠ\n"
     ]
    }
   ],
   "source": [
    "import re\n",
    "\n",
    "doublespace_pattern = re.compile('\\s+')\n",
    "repeatchars_pattern = re.compile('(\\w)\\\\1{2,}')\n",
    "\n",
    "def repeat_normalize(sent, num_repeats=2):\n",
    "    if num_repeats > 0:\n",
    "        sent = repeatchars_pattern.sub('\\\\1' * num_repeats, sent)\n",
    "    sent = doublespace_pattern.sub(' ', sent)\n",
    "    return sent.strip()\n",
    "\n",
    "# 테스트 예제\n",
    "sentence = \"ㅋㅋㅋ 안녕하세요!!! ㅎㅎㅎ ㅠㅠㅠ\"\n",
    "print(repeat_normalize(sentence, num_repeats=2))"
   ]
  },
  {
   "cell_type": "markdown",
   "metadata": {},
   "source": [
    "# Konlpy 라이브러리 형태소분석기들 테스트"
   ]
  },
  {
   "cell_type": "markdown",
   "metadata": {},
   "source": [
    "## Komoran 형태소 분석기\n",
    "\n",
    "- Shineware에서 자바로 개발한 한국어 형태소 분석기\n",
    "- 대규모 한국어 텍스트데이터를 사용해 품사 태깅을 학습.\n",
    "- 최신 한국어 텍스트에 대한 분석 성능이 뛰어남.\n",
    "- 다른 형태소 분석기와 다르게 공백이 포함된 형태소 단위로도 분석이 가능해 많이 사용한다.\n",
    "- [코모란 설명 참고](https://soy3on.tistory.com/171)"
   ]
  },
  {
   "cell_type": "code",
   "execution_count": 13,
   "metadata": {},
   "outputs": [
    {
     "name": "stderr",
     "output_type": "stream",
     "text": [
      "huggingface/tokenizers: The current process just got forked, after parallelism has already been used. Disabling parallelism to avoid deadlocks...\n",
      "To disable this warning, you can either:\n",
      "\t- Avoid using `tokenizers` before the fork if possible\n",
      "\t- Explicitly set the environment variable TOKENIZERS_PARALLELISM=(true | false)\n"
     ]
    },
    {
     "name": "stdout",
     "output_type": "stream",
     "text": [
      "Defaulting to user installation because normal site-packages is not writeable\n",
      "Requirement already satisfied: konlpy in /home/jinwon/.local/lib/python3.10/site-packages (0.6.0)\n",
      "Requirement already satisfied: JPype1>=0.7.0 in /home/jinwon/.local/lib/python3.10/site-packages (from konlpy) (1.5.1)\n",
      "Requirement already satisfied: lxml>=4.1.0 in /home/jinwon/.local/lib/python3.10/site-packages (from konlpy) (5.3.0)\n",
      "Requirement already satisfied: numpy>=1.6 in /home/jinwon/.local/lib/python3.10/site-packages (from konlpy) (2.0.1)\n",
      "Requirement already satisfied: packaging in /home/jinwon/.local/lib/python3.10/site-packages (from JPype1>=0.7.0->konlpy) (24.1)\n",
      "Note: you may need to restart the kernel to use updated packages.\n"
     ]
    }
   ],
   "source": [
    "%pip install konlpy"
   ]
  },
  {
   "cell_type": "code",
   "execution_count": 3,
   "metadata": {},
   "outputs": [
    {
     "name": "stdout",
     "output_type": "stream",
     "text": [
      "['왜', '아마겟돈', '이름', '을', '붙이', '냐', '한국', '배급사', '이', '자슥들']\n"
     ]
    }
   ],
   "source": [
    "from konlpy.tag import Komoran\n",
    "komoran = Komoran()\n",
    "\n",
    "text = \"왜 아마겟돈 이름을 붙이냐 한국 배급사 이 자슥들\"\n",
    "morphs = komoran.morphs(text)\n",
    "print(morphs)"
   ]
  },
  {
   "cell_type": "code",
   "execution_count": 4,
   "metadata": {},
   "outputs": [
    {
     "name": "stdout",
     "output_type": "stream",
     "text": [
      "[('왜', 'MAG'), ('아마겟돈', 'NNP'), ('이름', 'NNG'), ('을', 'JKO'), ('붙이', 'VV'), ('냐', 'EC'), ('한국', 'NNP'), ('배급사', 'NNP'), ('이', 'MM'), ('자슥들', 'NA')]\n"
     ]
    }
   ],
   "source": [
    "pos = komoran.pos(text)\n",
    "print(pos)"
   ]
  },
  {
   "cell_type": "code",
   "execution_count": 18,
   "metadata": {},
   "outputs": [
    {
     "name": "stdout",
     "output_type": "stream",
     "text": [
      "[('1', 'SN'), ('편', 'NNB'), ('을', 'JKO'), ('워낙', 'MAG'), ('즐겁', 'VA'), ('게', 'EC'), ('보', 'VV'), ('았', 'EP'), ('기', 'ETN'), ('에', 'JKB'), ('2', 'SN'), ('편', 'NNB'), ('에', 'JKB'), ('대하', 'VV'), ('ㄴ', 'ETM'), ('불안감', 'NNG'), ('이', 'JKS'), ('있', 'VX'), ('었', 'EP'), ('다', 'EF'), ('.', 'SF'), ('혹시', 'MAG'), ('실망', 'NNG'), ('하', 'XSV'), ('지', 'EC'), ('않', 'VX'), ('을까', 'EF'), ('.', 'SF'), ('.', 'SF'), ('하지만', 'MAJ'), ('역시', 'MAJ'), ('해피', 'NNP'), ('피트', 'NNP'), ('!', 'SF'), ('이', 'MM'), ('애니메이션', 'NNP'), ('은', 'JX'), ('10', 'SN'), ('점', 'NNB'), ('이란', 'JX'), ('점수', 'NNG'), ('마저', 'MAG'), ('너무', 'MAG'), ('낮', 'VA'), ('은', 'ETM'), ('것', 'NNB'), ('이', 'JKS'), ('아니', 'VCN'), ('ㄴ가', 'EC'), ('싶', 'VX'), ('을', 'ETM'), ('정', 'NNP'), ('돌', 'NNP'), ('로', 'JKB'), ('감동', 'NNG'), ('적', 'XSN'), ('이', 'VCP'), ('다', 'EF'), ('.', 'SF')]\n"
     ]
    }
   ],
   "source": [
    "text = \"1편을 워낙 즐겁게 보았기에 2편에 대한 불안감이 있었다. 혹시 실망하지 않을까.. 하지만 역시 해피피트 ! 이 애니메이션은 10점이란 점수 마저 너무 낮은 것이 아닌가 싶을 정돌로 감동적이다.\"\n",
    "result = komoran.pos(text)\n",
    "\n",
    "print(result)"
   ]
  },
  {
   "cell_type": "markdown",
   "metadata": {},
   "source": [
    "## Okt 형태소분석기\n",
    "\n",
    "- 트위터 코리아에서 개발\n",
    "- 대규모 SNS 데이터를 기반으로 설계, 규칙 기반 및 통계기반\n",
    "- 비공식적인 텍스트(예: 트위터글, 댓글)같은 특정 도메인에 적합\n",
    "- 대규모 텍스트에서 처리속도가 조금 느려질 수 있음.\n",
    "- 보통 속도가 더 빠르지만, 정확한 PoS 태깅이 필요한 경우 Kkma와 Komoran을 사용한다고 함."
   ]
  },
  {
   "cell_type": "code",
   "execution_count": 5,
   "metadata": {},
   "outputs": [
    {
     "name": "stdout",
     "output_type": "stream",
     "text": [
      "['1', '편', '을', '워낙', '즐겁게', '보았기에', '2', '편', '에', '대한', '불안감', '이', '있었다', '.', '혹시', '실망하지', '않을까', '..', '하지만', '역시', '해피피트', '!', '이', '애니메이션', '은', '10', '점', '이란', '점수', '마저', '너무', '낮은', '것', '이', '아닌가', '싶을', '정돌', '로', '감동', '적', '이다', '.']\n"
     ]
    }
   ],
   "source": [
    "from konlpy.tag import Okt\n",
    "okt = Okt()\n",
    "\n",
    "text = \"1편을 워낙 즐겁게 보았기에 2편에 대한 불안감이 있었다. 혹시 실망하지 않을까.. 하지만 역시 해피피트 ! 이 애니메이션은 10점이란 점수 마저 너무 낮은 것이 아닌가 싶을 정돌로 감동적이다.\"\n",
    "morphs = okt.morphs(text)\n",
    "print(morphs)"
   ]
  },
  {
   "cell_type": "code",
   "execution_count": 6,
   "metadata": {},
   "outputs": [
    {
     "name": "stdout",
     "output_type": "stream",
     "text": [
      "[('1', 'Number'), ('편', 'Noun'), ('을', 'Josa'), ('워낙', 'Noun'), ('즐겁게', 'Adjective'), ('보았기에', 'Verb'), ('2', 'Number'), ('편', 'Noun'), ('에', 'Josa'), ('대한', 'Noun'), ('불안감', 'Noun'), ('이', 'Josa'), ('있었다', 'Adjective'), ('.', 'Punctuation'), ('혹시', 'Noun'), ('실망하지', 'Adjective'), ('않을까', 'Verb'), ('..', 'Punctuation'), ('하지만', 'Conjunction'), ('역시', 'Noun'), ('해피피트', 'Noun'), ('!', 'Punctuation'), ('이', 'Noun'), ('애니메이션', 'Noun'), ('은', 'Josa'), ('10', 'Number'), ('점', 'Noun'), ('이란', 'Josa'), ('점수', 'Noun'), ('마저', 'Noun'), ('너무', 'Adverb'), ('낮은', 'Adjective'), ('것', 'Noun'), ('이', 'Josa'), ('아닌가', 'Adjective'), ('싶을', 'Verb'), ('정돌', 'Noun'), ('로', 'Josa'), ('감동', 'Noun'), ('적', 'Suffix'), ('이다', 'Josa'), ('.', 'Punctuation')]\n",
      "[('1', 'Number'), ('편', 'Noun'), ('을', 'Josa'), ('워낙', 'Noun'), ('즐겁다', 'Adjective'), ('보다', 'Verb'), ('2', 'Number'), ('편', 'Noun'), ('에', 'Josa'), ('대한', 'Noun'), ('불안감', 'Noun'), ('이', 'Josa'), ('있다', 'Adjective'), ('.', 'Punctuation'), ('혹시', 'Noun'), ('실망하다', 'Adjective'), ('않다', 'Verb'), ('..', 'Punctuation'), ('하지만', 'Conjunction'), ('역시', 'Noun'), ('해피피트', 'Noun'), ('!', 'Punctuation'), ('이', 'Noun'), ('애니메이션', 'Noun'), ('은', 'Josa'), ('10', 'Number'), ('점', 'Noun'), ('이란', 'Josa'), ('점수', 'Noun'), ('마저', 'Noun'), ('너무', 'Adverb'), ('낮다', 'Adjective'), ('것', 'Noun'), ('이', 'Josa'), ('아니다', 'Adjective'), ('싶다', 'Verb'), ('정돌', 'Noun'), ('로', 'Josa'), ('감동', 'Noun'), ('적', 'Suffix'), ('이다', 'Josa'), ('.', 'Punctuation')]\n",
      "[('1', 'Number'), ('편', 'Noun'), ('을', 'Josa'), ('워낙', 'Noun'), ('즐겁게', 'Adjective'), ('보았기에', 'Verb'), ('2', 'Number'), ('편', 'Noun'), ('에', 'Josa'), ('대한', 'Noun'), ('불안감', 'Noun'), ('이', 'Josa'), ('있었다', 'Adjective'), ('.', 'Punctuation'), ('혹시', 'Noun'), ('실망하지', 'Adjective'), ('않을까', 'Verb'), ('..', 'Punctuation'), ('하지만', 'Conjunction'), ('역시', 'Noun'), ('해피피트', 'Noun'), ('!', 'Punctuation'), ('이', 'Noun'), ('애니메이션', 'Noun'), ('은', 'Josa'), ('10', 'Number'), ('점', 'Noun'), ('이란', 'Josa'), ('점수', 'Noun'), ('마저', 'Noun'), ('너무', 'Adverb'), ('낮은', 'Adjective'), ('것', 'Noun'), ('이', 'Josa'), ('아닌가', 'Adjective'), ('싶을', 'Verb'), ('정돌', 'Noun'), ('로', 'Josa'), ('감동', 'Noun'), ('적', 'Suffix'), ('이다', 'Josa'), ('.', 'Punctuation')]\n",
      "[('1', 'Number'), ('편', 'Noun'), ('을', 'Josa'), ('워낙', 'Noun'), ('즐겁다', 'Adjective'), ('보다', 'Verb'), ('2', 'Number'), ('편', 'Noun'), ('에', 'Josa'), ('대한', 'Noun'), ('불안감', 'Noun'), ('이', 'Josa'), ('있다', 'Adjective'), ('.', 'Punctuation'), ('혹시', 'Noun'), ('실망하다', 'Adjective'), ('않다', 'Verb'), ('..', 'Punctuation'), ('하지만', 'Conjunction'), ('역시', 'Noun'), ('해피피트', 'Noun'), ('!', 'Punctuation'), ('이', 'Noun'), ('애니메이션', 'Noun'), ('은', 'Josa'), ('10', 'Number'), ('점', 'Noun'), ('이란', 'Josa'), ('점수', 'Noun'), ('마저', 'Noun'), ('너무', 'Adverb'), ('낮다', 'Adjective'), ('것', 'Noun'), ('이', 'Josa'), ('아니다', 'Adjective'), ('싶다', 'Verb'), ('정돌', 'Noun'), ('로', 'Josa'), ('감동', 'Noun'), ('적', 'Suffix'), ('이다', 'Josa'), ('.', 'Punctuation')]\n"
     ]
    }
   ],
   "source": [
    "pos = okt.pos(text)\n",
    "pos2 = okt.pos(text, stem=True)\n",
    "pos3 = okt.pos(text, norm=True)\n",
    "pos4 = okt.pos(text, norm=True, stem=True)\n",
    "print(pos)\n",
    "print(pos2)\n",
    "print(pos3)\n",
    "print(pos4)"
   ]
  },
  {
   "cell_type": "markdown",
   "metadata": {},
   "source": [
    "## Kkma 형태소분석기\n",
    "\n",
    "- 서울대학교 IDS 연구실에서 자연어처리를 위해 개발한 한국어 형태소 분석기\n",
    "- 대규모 한국어 Corpus를 이용해 지도학습기반으로 학습됨.\n",
    "- 성능이 좋지만, 속도가 느리고 메모리 사용량이 높다."
   ]
  },
  {
   "cell_type": "code",
   "execution_count": 1,
   "metadata": {},
   "outputs": [
    {
     "name": "stdout",
     "output_type": "stream",
     "text": [
      "['자연어', '처리', '공부', '는', '흥미', '롭', '다', '.']\n"
     ]
    }
   ],
   "source": [
    "from konlpy.tag import Kkma\n",
    "Kkma = Kkma()\n",
    "\n",
    "text = \"자연어 처리 공부는 흥미롭다.\"\n",
    "morphs = Kkma.morphs(text)\n",
    "print(morphs)"
   ]
  },
  {
   "cell_type": "code",
   "execution_count": 2,
   "metadata": {},
   "outputs": [
    {
     "name": "stdout",
     "output_type": "stream",
     "text": [
      "[('자연어', 'NNG'), ('처리', 'NNG'), ('공부', 'NNG'), ('는', 'JX'), ('흥미', 'NNG'), ('롭', 'XSA'), ('다', 'EFN'), ('.', 'SF')]\n"
     ]
    }
   ],
   "source": [
    "pos = Kkma.pos(text)\n",
    "print(pos)"
   ]
  },
  {
   "cell_type": "code",
   "execution_count": 4,
   "metadata": {},
   "outputs": [
    {
     "name": "stdout",
     "output_type": "stream",
     "text": [
      "[('달리기', 'NNG'), ('를', 'JKO'), ('하', 'VV'), ('고', 'ECE'), ('있', 'VXV'), ('었', 'EPT'), ('는데', 'ECD'), (',', 'SP'), ('공부', 'NNG'), ('는', 'JX'), ('하', 'XSV'), ('기', 'ETN'), ('싫', 'VA'), ('다', 'EFN')]\n"
     ]
    }
   ],
   "source": [
    "pos = Kkma.pos(\"달리기를 하고있었는데, 공부는 하기싫다\")\n",
    "print(pos)"
   ]
  },
  {
   "cell_type": "markdown",
   "metadata": {},
   "source": [
    "## Mecab 형태소분석기\n",
    "\n",
    "- 설치에 오류가 자꾸나서 보류\n",
    "- 원래 일반 NTT에서 개발된 Mecab을 한국어에 맞게 수정한 버전임.\n",
    "- 속도가 가장 빠름.\n",
    "- 딥러닝 기반이 아니라 **규칙기반**으로 설계되어 빠르고 지도학습없이 동작가능하지만, 딥러닝 기반보다 성능이 낮을 수 있음."
   ]
  },
  {
   "cell_type": "code",
   "execution_count": 15,
   "metadata": {},
   "outputs": [],
   "source": [
    "# %%bash\n",
    "# apt-get update\n",
    "# apt-get install g++ openjdk-8-jdk python-dev python3-dev\n",
    "# pip3 install JPype1\n",
    "# pip3 install konlpy"
   ]
  },
  {
   "cell_type": "code",
   "execution_count": 16,
   "metadata": {},
   "outputs": [],
   "source": [
    "# %env JAVA_HOME \"/usr/lib/jvm/java-8-openjdk-amd64\""
   ]
  },
  {
   "cell_type": "code",
   "execution_count": 17,
   "metadata": {},
   "outputs": [],
   "source": [
    "# %%bash\n",
    "# bash <(curl -s https://raw.githubusercontent.com/konlpy/konlpy/master/scripts/mecab.sh)\n",
    "# pip3 install /tmp/mecab-python-0.996"
   ]
  },
  {
   "cell_type": "code",
   "execution_count": 18,
   "metadata": {},
   "outputs": [],
   "source": [
    "# from konlpy.tag import Mecab\n",
    "# mecab = Mecab()\n",
    "\n",
    "# text = \"자연어 처리 공부는 흥미롭다.\"\n",
    "# morphs = mecab.morphs(text)\n",
    "# print(morphs)"
   ]
  },
  {
   "cell_type": "code",
   "execution_count": 19,
   "metadata": {},
   "outputs": [],
   "source": [
    "# pos = mecab.pos(text)\n",
    "# print(pos)"
   ]
  },
  {
   "cell_type": "markdown",
   "metadata": {},
   "source": [
    "# 바른 형태소분석기 테스트"
   ]
  },
  {
   "cell_type": "code",
   "execution_count": 5,
   "metadata": {},
   "outputs": [
    {
     "name": "stdout",
     "output_type": "stream",
     "text": [
      "sentences {\n",
      "  text {\n",
      "    content: \"안녕하세요.\"\n",
      "    length: 6\n",
      "  }\n",
      "  tokens {\n",
      "    text {\n",
      "      content: \"안녕하세요.\"\n",
      "      length: 6\n",
      "    }\n",
      "    morphemes {\n",
      "      text {\n",
      "        content: \"안녕하\"\n",
      "        length: 3\n",
      "      }\n",
      "      tag: VA\n",
      "      out_of_vocab: IN_BUILTIN_DICT\n",
      "    }\n",
      "    morphemes {\n",
      "      text {\n",
      "        content: \"시\"\n",
      "        begin_offset: 3\n",
      "        length: 1\n",
      "      }\n",
      "      tag: EP\n",
      "      probability: 0.9999606\n",
      "    }\n",
      "    morphemes {\n",
      "      text {\n",
      "        content: \"어요\"\n",
      "        begin_offset: 3\n",
      "        length: 2\n",
      "      }\n",
      "      tag: EF\n",
      "      probability: 0.9929438\n",
      "    }\n",
      "    morphemes {\n",
      "      text {\n",
      "        content: \".\"\n",
      "        begin_offset: 5\n",
      "        length: 1\n",
      "      }\n",
      "      tag: SF\n",
      "      probability: 0.9998064\n",
      "    }\n",
      "    lemma: \"안녕하\"\n",
      "    tagged: \"안녕하/VA+시/EP+어요/EF+./SF\"\n",
      "  }\n",
      "  refined: \"안녕하세요.\"\n",
      "}\n",
      "sentences {\n",
      "  text {\n",
      "    content: \"반가워요!\"\n",
      "    begin_offset: 7\n",
      "    length: 5\n",
      "  }\n",
      "  tokens {\n",
      "    text {\n",
      "      content: \"반가워요!\"\n",
      "      begin_offset: 7\n",
      "      length: 5\n",
      "    }\n",
      "    morphemes {\n",
      "      text {\n",
      "        content: \"반갑\"\n",
      "        begin_offset: 7\n",
      "        length: 2\n",
      "      }\n",
      "      tag: VA\n",
      "      probability: 0.9581311\n",
      "    }\n",
      "    morphemes {\n",
      "      text {\n",
      "        content: \"어요\"\n",
      "        begin_offset: 9\n",
      "        length: 2\n",
      "      }\n",
      "      tag: EF\n",
      "      probability: 0.99266225\n",
      "    }\n",
      "    morphemes {\n",
      "      text {\n",
      "        content: \"!\"\n",
      "        begin_offset: 11\n",
      "        length: 1\n",
      "      }\n",
      "      tag: SF\n",
      "      probability: 0.9988568\n",
      "    }\n",
      "    lemma: \"반갑\"\n",
      "    tagged: \"반갑/VA+어요/EF+!/SF\"\n",
      "  }\n",
      "  refined: \"반가워요!\"\n",
      "}\n",
      "language: \"ko_KR\"\n",
      "sentences {\n",
      "  text {\n",
      "    content: \"안녕하세요.\"\n",
      "    length: 6\n",
      "  }\n",
      "  tokens {\n",
      "    text {\n",
      "      content: \"안녕하세요.\"\n",
      "      length: 6\n",
      "    }\n",
      "    morphemes {\n",
      "      text {\n",
      "        content: \"안녕하\"\n",
      "        length: 3\n",
      "      }\n",
      "      tag: VA\n",
      "      out_of_vocab: IN_BUILTIN_DICT\n",
      "    }\n",
      "    morphemes {\n",
      "      text {\n",
      "        content: \"시\"\n",
      "        begin_offset: 3\n",
      "        length: 1\n",
      "      }\n",
      "      tag: EP\n",
      "      probability: 0.9999606\n",
      "    }\n",
      "    morphemes {\n",
      "      text {\n",
      "        content: \"어요\"\n",
      "        begin_offset: 3\n",
      "        length: 2\n",
      "      }\n",
      "      tag: EF\n",
      "      probability: 0.9929438\n",
      "    }\n",
      "    morphemes {\n",
      "      text {\n",
      "        content: \".\"\n",
      "        begin_offset: 5\n",
      "        length: 1\n",
      "      }\n",
      "      tag: SF\n",
      "      probability: 0.9998064\n",
      "    }\n",
      "    lemma: \"안녕하\"\n",
      "    tagged: \"안녕하/VA+시/EP+어요/EF+./SF\"\n",
      "  }\n",
      "  refined: \"안녕하세요.\"\n",
      "}\n",
      "sentences {\n",
      "  text {\n",
      "    content: \"반가워요!\"\n",
      "    begin_offset: 7\n",
      "    length: 5\n",
      "  }\n",
      "  tokens {\n",
      "    text {\n",
      "      content: \"반가워요!\"\n",
      "      begin_offset: 7\n",
      "      length: 5\n",
      "    }\n",
      "    morphemes {\n",
      "      text {\n",
      "        content: \"반갑\"\n",
      "        begin_offset: 7\n",
      "        length: 2\n",
      "      }\n",
      "      tag: VA\n",
      "      probability: 0.9581311\n",
      "    }\n",
      "    morphemes {\n",
      "      text {\n",
      "        content: \"어요\"\n",
      "        begin_offset: 9\n",
      "        length: 2\n",
      "      }\n",
      "      tag: EF\n",
      "      probability: 0.99266225\n",
      "    }\n",
      "    morphemes {\n",
      "      text {\n",
      "        content: \"!\"\n",
      "        begin_offset: 11\n",
      "        length: 1\n",
      "      }\n",
      "      tag: SF\n",
      "      probability: 0.9988568\n",
      "    }\n",
      "    lemma: \"반갑\"\n",
      "    tagged: \"반갑/VA+어요/EF+!/SF\"\n",
      "  }\n",
      "  refined: \"반가워요!\"\n",
      "}\n",
      "language: \"ko_KR\"\n",
      "\n",
      "length of sentences is 2\n",
      "length of tokens in sentences[0] is 1\n",
      "length of morphemes of first token in sentences[0] is 4\n",
      "lemma of first token in sentences[0] is 안녕하\n",
      "first morph of first token in sentences[0] is text {\n",
      "  content: \"\\354\\225\\210\\353\\205\\225\\355\\225\\230\"\n",
      "  length: 3\n",
      "}\n",
      "tag: VA\n",
      "out_of_vocab: IN_BUILTIN_DICT\n",
      "\n",
      "tag of first morph of first token in sentences[0] is 38\n"
     ]
    }
   ],
   "source": [
    "import sys\n",
    "import google.protobuf.text_format as tf\n",
    "from bareunpy import Tagger\n",
    "\n",
    "API_KEY = API_KEY # 발급받은 api key를 작성\n",
    "\n",
    "# If you have your own localhost bareun.\n",
    "my_tagger = Tagger(API_KEY, 'localhost', 5757)\n",
    "\n",
    "res = my_tagger.tags([\"안녕하세요.\", \"반가워요!\"])\n",
    "m = res.msg()\n",
    "tf.PrintMessage(m, out=sys.stdout, as_utf8=True)\n",
    "print(tf.MessageToString(m, as_utf8=True))\n",
    "print(f'length of sentences is {len(m.sentences)}')\n",
    "\n",
    "print(f'length of tokens in sentences[0] is {len(m.sentences[0].tokens)}')\n",
    "print(f'length of morphemes of first token in sentences[0] is {len(m.sentences[0].tokens[0].morphemes)}')\n",
    "print(f'lemma of first token in sentences[0] is {m.sentences[0].tokens[0].lemma}')\n",
    "print(f'first morph of first token in sentences[0] is {m.sentences[0].tokens[0].morphemes[0]}')\n",
    "print(f'tag of first morph of first token in sentences[0] is {m.sentences[0].tokens[0].morphemes[0].tag}')"
   ]
  },
  {
   "cell_type": "code",
   "execution_count": 7,
   "metadata": {},
   "outputs": [
    {
     "name": "stdout",
     "output_type": "stream",
     "text": [
      "Input Text: 나는 행복하다. 하지만 오늘은 기분이 너무 좋다!\n",
      "Expected Output: 나 행복 하다 오늘 기분 너무 좋다\n",
      "morph = text {\n",
      "  content: \"\\353\\202\\230\"\n",
      "  length: 1\n",
      "}\n",
      "tag: NP\n",
      "probability: 0.9648109078407288\n",
      "\n",
      "morph.tag = 26\n",
      "morph = text {\n",
      "  content: \"\\353\\212\\224\"\n",
      "  begin_offset: 1\n",
      "  length: 1\n",
      "}\n",
      "tag: JX\n",
      "probability: 0.9976519346237183\n",
      "\n",
      "morph.tag = 15\n",
      "morph = text {\n",
      "  content: \"A\"\n",
      "  begin_offset: 2\n",
      "  length: 1\n",
      "}\n",
      "tag: SL\n",
      "probability: 0.9573767185211182\n",
      "\n",
      "morph.tag = 32\n",
      "morph = text {\n",
      "  content: \"\\355\\226\\211\\353\\263\\265\"\n",
      "  begin_offset: 3\n",
      "  length: 2\n",
      "}\n",
      "tag: NNG\n",
      "probability: 0.9680190682411194\n",
      "\n",
      "morph.tag = 24\n",
      "morph = text {\n",
      "  content: \"\\355\\225\\230\"\n",
      "  begin_offset: 5\n",
      "  length: 1\n",
      "}\n",
      "tag: XSA\n",
      "probability: 0.9908753633499146\n",
      "\n",
      "morph.tag = 45\n",
      "morph = text {\n",
      "  content: \"\\353\\213\\244\"\n",
      "  begin_offset: 6\n",
      "  length: 1\n",
      "}\n",
      "tag: EF\n",
      "probability: 0.9884401559829712\n",
      "\n",
      "morph.tag = 2\n",
      "morph = text {\n",
      "  content: \".\"\n",
      "  begin_offset: 7\n",
      "  length: 1\n",
      "}\n",
      "tag: SF\n",
      "probability: 0.9957044720649719\n",
      "\n",
      "morph.tag = 30\n",
      "morph = text {\n",
      "  content: \"A\"\n",
      "  begin_offset: 8\n",
      "  length: 1\n",
      "}\n",
      "tag: SL\n",
      "probability: 0.9604210257530212\n",
      "\n",
      "morph.tag = 32\n",
      "morph = text {\n",
      "  content: \"\\355\\225\\230\"\n",
      "  begin_offset: 9\n",
      "  length: 1\n",
      "}\n",
      "tag: XSA\n",
      "probability: 0.773593008518219\n",
      "\n",
      "morph.tag = 45\n",
      "morph = text {\n",
      "  content: \"\\354\\247\\200\\353\\247\\214\"\n",
      "  begin_offset: 10\n",
      "  length: 2\n",
      "}\n",
      "tag: EC\n",
      "probability: 0.9870394468307495\n",
      "\n",
      "morph.tag = 1\n",
      "morph = text {\n",
      "  content: \"A\"\n",
      "  begin_offset: 12\n",
      "  length: 1\n",
      "}\n",
      "tag: SL\n",
      "probability: 0.9590862393379211\n",
      "\n",
      "morph.tag = 32\n",
      "morph = text {\n",
      "  content: \"\\354\\230\\244\\353\\212\\230\"\n",
      "  begin_offset: 13\n",
      "  length: 2\n",
      "}\n",
      "tag: NNG\n",
      "probability: 0.9742477536201477\n",
      "\n",
      "morph.tag = 24\n",
      "morph = text {\n",
      "  content: \"\\354\\235\\200\"\n",
      "  begin_offset: 15\n",
      "  length: 1\n",
      "}\n",
      "tag: JX\n",
      "probability: 0.9995080232620239\n",
      "\n",
      "morph.tag = 15\n",
      "morph = text {\n",
      "  content: \"A\"\n",
      "  begin_offset: 16\n",
      "  length: 1\n",
      "}\n",
      "tag: SL\n",
      "probability: 0.947574257850647\n",
      "\n",
      "morph.tag = 32\n",
      "morph = text {\n",
      "  content: \"\\352\\270\\260\\353\\266\\204\"\n",
      "  begin_offset: 17\n",
      "  length: 2\n",
      "}\n",
      "tag: NNG\n",
      "probability: 0.9864926338195801\n",
      "\n",
      "morph.tag = 24\n",
      "morph = text {\n",
      "  content: \"\\354\\235\\264\"\n",
      "  begin_offset: 19\n",
      "  length: 1\n",
      "}\n",
      "tag: JKS\n",
      "probability: 0.9792309403419495\n",
      "\n",
      "morph.tag = 13\n",
      "morph = text {\n",
      "  content: \"A\"\n",
      "  begin_offset: 20\n",
      "  length: 1\n",
      "}\n",
      "tag: SL\n",
      "probability: 0.9707688093185425\n",
      "\n",
      "morph.tag = 32\n",
      "morph = text {\n",
      "  content: \"\\353\\204\\210\\353\\254\\264\"\n",
      "  begin_offset: 21\n",
      "  length: 2\n",
      "}\n",
      "tag: MAG\n",
      "probability: 0.9928883910179138\n",
      "\n",
      "morph.tag = 16\n",
      "morph = text {\n",
      "  content: \"A\"\n",
      "  begin_offset: 23\n",
      "  length: 1\n",
      "}\n",
      "tag: SL\n",
      "probability: 0.9426572918891907\n",
      "\n",
      "morph.tag = 32\n",
      "morph = text {\n",
      "  content: \"\\354\\242\\213\"\n",
      "  begin_offset: 24\n",
      "  length: 1\n",
      "}\n",
      "tag: VA\n",
      "probability: 0.9874560832977295\n",
      "\n",
      "morph.tag = 38\n",
      "morph = text {\n",
      "  content: \"\\353\\213\\244\"\n",
      "  begin_offset: 25\n",
      "  length: 1\n",
      "}\n",
      "tag: EF\n",
      "probability: 0.987875759601593\n",
      "\n",
      "morph.tag = 2\n",
      "morph = text {\n",
      "  content: \"!\"\n",
      "  begin_offset: 26\n",
      "  length: 1\n",
      "}\n",
      "tag: SF\n",
      "probability: 0.9997393488883972\n",
      "\n",
      "morph.tag = 30\n",
      "Actual Output: 나 는 행복 하 다 . 하 지만 오늘 은 기분 이 너무 좋 다 !\n",
      "❌ Test Failed: 예상 결과와 일치하지 않습니다.\n"
     ]
    }
   ],
   "source": [
    "# 필요한 라이브러리 임포트\n",
    "import re\n",
    "from soynlp.normalizer import repeat_normalize\n",
    "from bareunpy import Tagger\n",
    "import emoji\n",
    "\n",
    "# Bareun API 초기화\n",
    "API_KEY = API_KEY # 발급받은 api key를 작성\n",
    "bareun_tagger = Tagger(API_KEY, \"localhost\", 5757)\n",
    "\n",
    "# 제거할 품사 태그 정의\n",
    "REMOVE_POS = {\n",
    "    'JKS', 'JKC', 'JKG', 'JKO', 'JKB', 'JKV', 'JKQ', 'JX', 'JC',  # 조사, 접속사\n",
    "    'SF', 'SP', 'SS', 'SE', 'SO',  # 구두점\n",
    "}\n",
    "\n",
    "def clean_text_with_bareun(text):\n",
    "    \"\"\"\n",
    "    Bareun 형태소 분석기를 사용하여 텍스트를 정제합니다.\n",
    "    Args:\n",
    "        text (str): 원본 텍스트.\n",
    "    Returns:\n",
    "        str: 정제된 텍스트.\n",
    "    \"\"\"\n",
    "    if not text.strip():\n",
    "        return ''\n",
    "    \n",
    "    # 공백을 \"A\"로 대체\n",
    "    text = text.replace(' ', 'A')\n",
    "    \n",
    "    # Bareun 형태소 분석 호출\n",
    "    res = bareun_tagger.tags([text])  # Bareun은 리스트 형태로 입력받음\n",
    "    processed_tokens = []\n",
    "\n",
    "    for sentence in res.msg().sentences:\n",
    "        for token in sentence.tokens:\n",
    "            for morph in token.morphemes:\n",
    "                # REMOVE_POS에 포함된 태그를 가진 형태소 제거\n",
    "                print(f\"morph = {morph}\")\n",
    "                if morph.tag not in REMOVE_POS:\n",
    "                    print(f\"morph.tag = {morph.tag}\")\n",
    "                    processed_tokens.append(morph.text.content)\n",
    "    \n",
    "    # 형태소 분석 결과를 공백으로 결합\n",
    "    processed_text = ' '.join(processed_tokens)\n",
    "\n",
    "    # \"A\"를 다시 빈칸으로 복원\n",
    "    processed_text = processed_text.replace('A', ' ')\n",
    "    \n",
    "    # 다중 공백 제거\n",
    "    processed_text = re.sub(r'\\s+', ' ', processed_text).strip()\n",
    "    \n",
    "    return processed_text\n",
    "\n",
    "\n",
    "\n",
    "\n",
    "# 테스트 코드\n",
    "def run_test():\n",
    "    test_text = \"나는 행복하다. 하지만 오늘은 기분이 너무 좋다!\"\n",
    "    print(f\"Input Text: {test_text}\")\n",
    "    \n",
    "    expected_output = \"나 행복 하다 오늘 기분 너무 좋다\"\n",
    "    print(f\"Expected Output: {expected_output}\")\n",
    "    \n",
    "    actual_output = clean_text_with_bareun(test_text)\n",
    "    print(f\"Actual Output: {actual_output}\")\n",
    "    \n",
    "    if actual_output == expected_output:\n",
    "        print(\"✅ Test Passed: REMOVE_POS 태그가 잘 제거되었습니다.\")\n",
    "    else:\n",
    "        print(\"❌ Test Failed: 예상 결과와 일치하지 않습니다.\")\n",
    "\n",
    "# 실행\n",
    "run_test()\n",
    "\n",
    "\n",
    "# morph.tag가 숫자로 반환되는 문제가 원인이였음."
   ]
  },
  {
   "cell_type": "markdown",
   "metadata": {},
   "source": [
    "# MarianMTModel 테스트"
   ]
  },
  {
   "cell_type": "code",
   "execution_count": 1,
   "metadata": {},
   "outputs": [
    {
     "name": "stderr",
     "output_type": "stream",
     "text": [
      "/home/jinwon/.local/lib/python3.10/site-packages/tqdm/auto.py:21: TqdmWarning: IProgress not found. Please update jupyter and ipywidgets. See https://ipywidgets.readthedocs.io/en/stable/user_install.html\n",
      "  from .autonotebook import tqdm as notebook_tqdm\n"
     ]
    }
   ],
   "source": [
    "from transformers import MarianMTModel, MarianTokenizer\n",
    "import pandas as pd\n",
    "import argparse\n",
    "import re\n",
    "from soynlp.normalizer import repeat_normalize\n",
    "import emoji\n",
    "import random\n",
    "from dotenv import load_dotenv\n",
    "import os\n",
    "\n",
    "model_name_src_to_tgt = \"Helsinki-NLP/opus-mt-ko-en\"\n",
    "model_name_tgt_to_src = \"Helsinki-NLP/opus-mt-tc-big-en-ko\"\n",
    "\n",
    "# 토큰 매개변수를 제거합니다.\n",
    "tokenizer_src_to_tgt = MarianTokenizer.from_pretrained(model_name_src_to_tgt)\n",
    "model_src_to_tgt = MarianMTModel.from_pretrained(model_name_src_to_tgt)\n",
    "\n",
    "tokenizer_tgt_to_src = MarianTokenizer.from_pretrained(model_name_tgt_to_src)\n",
    "model_tgt_to_src = MarianMTModel.from_pretrained(model_name_tgt_to_src)"
   ]
  },
  {
   "cell_type": "code",
   "execution_count": 4,
   "metadata": {},
   "outputs": [
    {
     "name": "stdout",
     "output_type": "stream",
     "text": [
      "Original: 재밌었다.진저 너무 무서버~ㅠ | Translated (EN): It was fun. It was so scary.\n"
     ]
    }
   ],
   "source": [
    "text = \"재밌었다.진저 너무 무서버~ㅠ\"\n",
    "\n",
    "encoded = tokenizer_src_to_tgt.encode(text, return_tensors=\"pt\")\n",
    "translated = model_src_to_tgt.generate(encoded, max_new_tokens=100)\n",
    "english_text = tokenizer_src_to_tgt.decode(translated[0], skip_special_tokens=True)\n",
    "print(f\"Original: {text} | Translated (EN): {english_text}\")"
   ]
  },
  {
   "cell_type": "code",
   "execution_count": 5,
   "metadata": {},
   "outputs": [
    {
     "name": "stdout",
     "output_type": "stream",
     "text": [
      "Back Translated (KO): wavether convergence. 웨이브더 컨버전스.\n"
     ]
    }
   ],
   "source": [
    "encoded = tokenizer_tgt_to_src.encode(english_text, return_tensors=\"pt\")\n",
    "translated = model_tgt_to_src.generate(encoded, max_new_tokens=100)\n",
    "back_translated_text = tokenizer_tgt_to_src.decode(translated[0], skip_special_tokens=True)\n",
    "print(f\"Back Translated (KO): {back_translated_text}\")\n",
    "\n",
    "# 잘 안됨. 이상함."
   ]
  },
  {
   "cell_type": "markdown",
   "metadata": {},
   "source": [
    "## 랜덤문자위치변경"
   ]
  },
  {
   "cell_type": "code",
   "execution_count": 14,
   "metadata": {},
   "outputs": [
    {
     "name": "stdout",
     "output_type": "stream",
     "text": [
      "원본 문장: 포메라니안 강아지랑 놀다보니깐 식탁에 음식이 가득 차 있었다.\n",
      "증강된 문장: 포라니메안 강아지랑 놀보다니깐 식탁에 음식이 가득 차 있었다.\n"
     ]
    }
   ],
   "source": [
    "import random\n",
    "\n",
    "def shuffle_korean_word(word):\n",
    "    \"\"\"\n",
    "    단어 내부의 문자 위치를 랜덤하게 섞습니다.\n",
    "    단, 단어의 길이가 3 이하이면 섞지 않습니다.\n",
    "    \"\"\"\n",
    "    if len(word) <= 3:  # 길이가 3 이하인 단어는 변경하지 않음\n",
    "        return word\n",
    "\n",
    "    # 첫 글자와 마지막 글자는 고정, 중간 글자만 섞음\n",
    "    middle_chars = list(word[1:-1])\n",
    "    random.shuffle(middle_chars)\n",
    "    return word[0] + ''.join(middle_chars) + word[-1]\n",
    "\n",
    "def augment_text(text):\n",
    "    \"\"\"\n",
    "    문장의 각 단어에 대해 랜덤 셔플을 적용합니다.\n",
    "    \"\"\"\n",
    "    words = text.split()\n",
    "    augmented_words = [shuffle_korean_word(word) for word in words]\n",
    "    return \" \".join(augmented_words)\n",
    "\n",
    "# 테스트 데이터\n",
    "text = \"포메라니안 강아지랑 놀다보니깐 식탁에 음식이 가득 차 있었다.\"\n",
    "\n",
    "# 증강된 결과 확인\n",
    "augmented_text = augment_text(text)\n",
    "print(\"원본 문장:\", text)\n",
    "print(\"증강된 문장:\", augmented_text)\n"
   ]
  },
  {
   "cell_type": "code",
   "execution_count": null,
   "metadata": {},
   "outputs": [],
   "source": []
  }
 ],
 "metadata": {
  "kernelspec": {
   "display_name": "Python 3",
   "language": "python",
   "name": "python3"
  },
  "language_info": {
   "codemirror_mode": {
    "name": "ipython",
    "version": 3
   },
   "file_extension": ".py",
   "mimetype": "text/x-python",
   "name": "python",
   "nbconvert_exporter": "python",
   "pygments_lexer": "ipython3",
   "version": "3.10.12"
  },
  "orig_nbformat": 4
 },
 "nbformat": 4,
 "nbformat_minor": 2
}
